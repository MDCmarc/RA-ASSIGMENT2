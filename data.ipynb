{
 "cells": [
  {
   "cell_type": "code",
   "execution_count": 65,
   "metadata": {},
   "outputs": [],
   "source": [
    "import os\n",
    "import pandas as pd\n",
    "import numpy as np\n",
    "import matplotlib.pyplot as plt\n",
    "import subprocess\n",
    "import re\n",
    "\n",
    "\n",
    "bins = 25\n",
    "total_balls = 25*25\n",
    "\n",
    "delta_array = [2,3,4,5,6,7,8,9,10]\n",
    "beta_array = [0.2, 0.4, 0.6, 0.8]\n",
    "\n"
   ]
  },
  {
   "cell_type": "code",
   "execution_count": 67,
   "metadata": {},
   "outputs": [
    {
     "name": "stdout",
     "output_type": "stream",
     "text": [
      "Parsed options:\n",
      "Allocation scheme: B, Value: 0.2\n",
      "Experiment type: K, Value: 2\n",
      "Parsed options:\n",
      "Allocation scheme: B, Value: 0.4\n",
      "Experiment type: K, Value: 2\n",
      "Parsed options:\n",
      "Allocation scheme: B, Value: 0.6\n",
      "Experiment type: K, Value: 2\n",
      "Parsed options:\n",
      "Allocation scheme: B, Value: 0.8\n",
      "Experiment type: K, Value: 2\n"
     ]
    }
   ],
   "source": [
    "#for balls in range(0,total_balls+1,bins):\n",
    "for beta in beta_array:\n",
    "    subprocess.run([\"./galtonBoard\", \"-B\", str(beta), \"-K 2\"])"
   ]
  },
  {
   "cell_type": "code",
   "execution_count": 63,
   "metadata": {},
   "outputs": [
    {
     "name": "stdout",
     "output_type": "stream",
     "text": [
      "\\textbf{2} & 2.21 & 4.44 & 1.83 & 2.36 \\\\ \\hline\n",
      "\\textbf{3} & 2.0 & 3.19 & 1.47 & 1.67 \\\\ \\hline\n",
      "\\textbf{4} & 1.91 & 2.95 & 1.35 & 1.41 \\\\ \\hline\n",
      "\\textbf{5} & 1.75 & 2.66 & 1.25 & 1.36 \\\\ \\hline\n",
      "\\textbf{6} & 1.76 & 2.51 & 1.2 & 1.29 \\\\ \\hline\n",
      "\\textbf{7} & 1.82 & 2.41 & 1.18 & 1.27 \\\\ \\hline\n",
      "\\textbf{8} & 1.79 & 2.61 & 1.13 & 1.11 \\\\ \\hline\n",
      "\\textbf{9} & 1.85 & 2.27 & 1.13 & 1.08 \\\\ \\hline\n",
      "\\textbf{10} & 1.9 & 2.32 & 0.97 & 1.13 \\\\ \\hline\n",
      "\n"
     ]
    }
   ],
   "source": [
    "folder_path = 'comparisons-k-delta/'\n",
    "\n",
    "data = {}\n",
    "\n",
    "pattern = re.compile(r\"D(\\d+)_K(\\d+)\\.csv\")\n",
    "#pattern = re.compile(r\"D(\\d+)_00.csv\")\n",
    "\n",
    "for filename in os.listdir(folder_path):\n",
    "    match = pattern.match(filename)\n",
    "    if match:\n",
    "        delta_value = int(match.group(2))\n",
    "        batch_size = int(match.group(1))\n",
    "        \n",
    "        file_path = os.path.join(folder_path, filename)\n",
    "        df = pd.read_csv(file_path)\n",
    "        \n",
    "        # Extract values for n = 25 and N = 625\n",
    "        value_n_25 = df[df['balls'] == 25].iloc[0]['averageMaxLoad']\n",
    "        value_N_625 = df[df['balls'] == 625].iloc[0]['averageMaxLoad']\n",
    "        \n",
    "        if batch_size not in data:\n",
    "            data[batch_size] = {}\n",
    "        \n",
    "        data[batch_size][delta_value] = (value_n_25, value_N_625)\n",
    "        #data[beta_value] = (value_n_25, value_N_625)\n",
    "\n",
    "\n",
    "latex_output = \"\"\n",
    "for batch_size in sorted(data.keys()):\n",
    "    row = f\"\\\\textbf{{{batch_size}}}\"\n",
    "    for delta_value in sorted(data[batch_size].keys()):\n",
    "        n_25, N_625 = data[batch_size][delta_value]\n",
    "        row += f\" & {n_25} & {N_625}\"\n",
    "    latex_output += row + \" \\\\\\\\ \\\\hline\\n\"\n",
    "\n",
    "\n",
    "print(latex_output)"
   ]
  },
  {
   "cell_type": "code",
   "execution_count": 39,
   "metadata": {},
   "outputs": [],
   "source": [
    "import csv\n",
    "\n",
    "for beta_value in {beta for batch in data.values() for beta in batch.keys()}:\n",
    "    filename = f'beta_{beta_value}_N625_values.csv'\n",
    "    \n",
    "    with open(filename, 'w', newline='') as csvfile:\n",
    "        writer = csv.writer(csvfile)\n",
    "        writer.writerow(['batch', 'value']) \n",
    "\n",
    "        for batch_size, beta_dict in sorted(data.items()):\n",
    "            if beta_value in beta_dict:\n",
    "                _, value_N_625 = beta_dict[beta_value]\n",
    "                writer.writerow([batch_size, value_N_625])\n",
    "\n",
    "    print(f\"New CSV created for beta {beta_value}: {filename}\")"
   ]
  }
 ],
 "metadata": {
  "kernelspec": {
   "display_name": "Python 3",
   "language": "python",
   "name": "python3"
  },
  "language_info": {
   "codemirror_mode": {
    "name": "ipython",
    "version": 3
   },
   "file_extension": ".py",
   "mimetype": "text/x-python",
   "name": "python",
   "nbconvert_exporter": "python",
   "pygments_lexer": "ipython3",
   "version": "3.10.12"
  }
 },
 "nbformat": 4,
 "nbformat_minor": 2
}
